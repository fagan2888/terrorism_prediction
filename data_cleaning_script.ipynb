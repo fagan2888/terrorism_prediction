{
 "cells": [
  {
   "cell_type": "markdown",
   "metadata": {},
   "source": [
    "# Data Cleaning code in Python"
   ]
  },
  {
   "cell_type": "code",
   "execution_count": 1,
   "metadata": {},
   "outputs": [],
   "source": [
    "import pandas as pd\n",
    "import numpy as np\n",
    "from numpy import nan as Nan\n",
    "import matplotlib.pyplot as plt\n",
    "%matplotlib inline"
   ]
  },
  {
   "cell_type": "code",
   "execution_count": 2,
   "metadata": {},
   "outputs": [
    {
     "name": "stderr",
     "output_type": "stream",
     "text": [
      "/Users/cheng/miniconda3/envs/tensorflow/lib/python3.5/site-packages/IPython/core/interactiveshell.py:2717: DtypeWarning: Columns (4,6,31,33,53,61,62,63,76,79,90,92,94,96,114,115,121) have mixed types. Specify dtype option on import or set low_memory=False.\n",
      "  interactivity=interactivity, compiler=compiler, result=result)\n"
     ]
    }
   ],
   "source": [
    "terror=pd.read_csv('./input/globalterrorismdb_0617dist.csv',encoding='ISO-8859-1')\n",
    "terror.rename(columns={'iyear':'Year','imonth':'Month','iday':'Day','country_txt':'Country','region_txt':'Region','attacktype1_txt':'AttackType','target1':'Target','nkill':'Killed','nwound':'Wounded','summary':'Summary','gname':'Group','targtype1_txt':'Target_type','weaptype1_txt':'Weapon_type','motive':'Motive'},inplace=True)\n",
    "terror=terror[['Year','Month','Day','Country','Region','city','latitude','longitude','AttackType','Killed','Wounded','Target','Summary','Group','Target_type','Weapon_type','Motive']]\n",
    "terror['casualities']=terror['Killed']+terror['Wounded']\n",
    "\n",
    "#This is a basic table\n",
    "terror_og = terror.reset_index()\n",
    "terror = terror[[\"Year\", \"Month\", \"Killed\", \"Wounded\", \"casualities\"]]\n",
    "\n",
    "#condition\n",
    "terror[\"kill thresh\"] = terror[\"casualities\"] >= 10\n",
    "\n",
    "#This is the table that we can mess with\n",
    "terror1 = terror.groupby(['Year', 'Month']).agg(['sum']).reset_index()\n",
    "terror1.columns = [' '.join(col).strip() for col in terror1.columns.values]\n",
    "#terror1 = terror1.drop([\"Wounded size\", \"casualities size\"], axis=1)\n",
    "terror1 = terror1.rename(index=str, columns={\"kill thresh sum\": \"num attacks with kill thresh\"})\n",
    "terror1 = terror1[terror1[\"Month\"] != 0]\n",
    "\n",
    "#Add 1993 Nan values\n",
    "sub_terror_1993 = pd.DataFrame(np.array([[1993, i, Nan,Nan, Nan, Nan] for i in range(1, 13)]))\n",
    "sub_terror_1993.columns = terror1.columns\n",
    "sub_terror_1993[\"Year\"] = sub_terror_1993[\"Year\"].astype(int)\n",
    "sub_terror_1993[\"Month\"] = sub_terror_1993[\"Month\"].astype(int)\n",
    "\n",
    "terror2 = pd.concat([terror1[:276], sub_terror_1993, terror1[276:]]).reset_index().drop([\"index\"], axis=1)\n",
    "#terror2.to_csv(\"./input/casualities.csv\", index=False)"
   ]
  }
 ],
 "metadata": {
  "kernelspec": {
   "display_name": "Python (tensorflow)",
   "language": "python",
   "name": "tensorflow"
  },
  "language_info": {
   "codemirror_mode": {
    "name": "ipython",
    "version": 3
   },
   "file_extension": ".py",
   "mimetype": "text/x-python",
   "name": "python",
   "nbconvert_exporter": "python",
   "pygments_lexer": "ipython3",
   "version": "3.5.2"
  }
 },
 "nbformat": 4,
 "nbformat_minor": 2
}
